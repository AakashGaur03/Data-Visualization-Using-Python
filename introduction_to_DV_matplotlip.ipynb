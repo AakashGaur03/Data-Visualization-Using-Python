{
 "cells": [
  {
   "cell_type": "markdown",
   "metadata": {},
   "source": [
    "## Introduciton"
   ]
  },
  {
   "cell_type": "code",
   "execution_count": 9,
   "metadata": {},
   "outputs": [],
   "source": [
    "import matplotlib.pyplot as plt"
   ]
  },
  {
   "cell_type": "code",
   "execution_count": null,
   "metadata": {},
   "outputs": [],
   "source": [
    "plt.plot([1,2,3,4])\n",
    "plt.show()"
   ]
  },
  {
   "cell_type": "code",
   "execution_count": null,
   "metadata": {},
   "outputs": [],
   "source": [
    "x = [1,2,3,4]\n",
    "js_marks = [50,60,80,92]\n",
    "ml_marks = [55,66,70,87]\n",
    "plt.plot(x,js_marks,label = \"JS Marks\",color='green',linewidth=4,linestyle=\":\") # for Label to show we need to do plt.legend\n",
    "plt.plot(x,ml_marks,label = \"ML Marks\" ,color=\"#000\",marker=\"*\",linestyle=\"--\") # for Label to show we need to do plt.legend\n",
    "plt.title(\"Marks for number of Hours\")\n",
    "plt.xlabel(\"Hours Studied\")\n",
    "plt.ylabel(\"Marks Gained\")\n",
    "plt.xticks([1,2,3,4])\n",
    "plt.yticks([33,66,99])\n",
    "plt.legend(loc=\"lower right\")\n",
    "plt.show()"
   ]
  },
  {
   "cell_type": "code",
   "execution_count": null,
   "metadata": {},
   "outputs": [],
   "source": [
    "x = [1,2,3,4]\n",
    "js_marks = [50,60,80,92]\n",
    "ml_marks = [55,66,70,87]\n",
    "plt.plot(x,js_marks,'r*--',label = \"JS Marks\",linewidth=4) # Shorthand Notation r*--\n",
    "plt.plot(x,ml_marks,label = \"ML Marks\" ,color=\"#000\",marker=\"*\",linestyle=\"--\",markersize=20)\n",
    "plt.title(\"Marks for number of Hours\",fontdict={'fontname':\"Comic Sans MS\",\"fontweight\":5,\"fontsize\":20,\"color\":\"blue\"})\n",
    "plt.xlabel(\"Hours Studied\")\n",
    "plt.ylabel(\"Marks Gained\")\n",
    "plt.xticks([1,2,3,4])\n",
    "plt.yticks([33,66,99])\n",
    "plt.legend(loc=\"lower right\")\n",
    "\n",
    "plt.savefig(\"marks.png\") # Saves the image for the Graph\n",
    "plt.savefig(\"marks1.png\",dpi=10) # DPI is Dots per Inches\n",
    "plt.savefig(\"marks2.png\",dpi=1000) # DPI is Dots per Inches\n",
    "# You can see the differnece in images of DPI is high quality image that didnt get blur on zoom too\n",
    "\n",
    "# Make sure to savefig before show because what happens is when show renders the image it clears the figure that we are working with \n",
    "plt.show()"
   ]
  },
  {
   "cell_type": "code",
   "execution_count": null,
   "metadata": {},
   "outputs": [],
   "source": [
    "import numpy as np\n",
    "\n",
    "# evenly sampled time at 200ms intervals\n",
    "t = np.arange(0., 5., 0.2)\n",
    "print(t)\n",
    "# red dashes, blue squares and green triangles short hand notations\n",
    "plt.plot(t, t, 'r--', t, t**2, 'bs', t, t**3, 'g^')\n",
    "plt.show()"
   ]
  },
  {
   "cell_type": "markdown",
   "metadata": {},
   "source": [
    "## Sub Plots (Title Labels Styling)"
   ]
  },
  {
   "cell_type": "code",
   "execution_count": null,
   "metadata": {},
   "outputs": [],
   "source": [
    "t = np.arange(0., 5., 0.2)\n",
    "# Separate Images\n",
    "plt.figure()\n",
    "plt.plot(t, t, 'r--')\n",
    "plt.savefig(\"multiple1.png\")\n",
    "\n",
    "plt.figure()\n",
    "plt.plot(t, t**2, 'bs')\n",
    "plt.savefig(\"multiple2.png\")\n",
    "\n",
    "plt.figure()\n",
    "plt.plot(t, t**3, 'g^')\n",
    "plt.savefig(\"multiple3.png\")\n",
    "plt.show()"
   ]
  },
  {
   "cell_type": "code",
   "execution_count": null,
   "metadata": {},
   "outputs": [],
   "source": [
    "t = np.arange(0., 5., 0.2)\n",
    "plt.figure()\n",
    "plt.subplot(1,3,1)  # 1 row 3 Columns and Put Figure at 1st index\n",
    "plt.plot(t, t, 'r--')\n",
    "plt.title(\"Linear Subplot\")\n",
    "plt.subplot(1,3,2)  # 1 row 3 Columns and Put Figure at 2nd index\n",
    "plt.plot(t, t**2, 'bs')\n",
    "plt.title(\"Quadratic Subplot\")\n",
    "plt.subplot(1,3,3)  # 1 row 3 Columns and Put Figure in 3rd index\n",
    "plt.plot(t, t**3, 'g^')\n",
    "plt.title(\"Cubic Subplot\")\n",
    "\n",
    "plt.suptitle(\"Different Function\")\n",
    "plt.tight_layout()\n",
    "plt.savefig(\"Horizontal.png\")\n",
    "plt.show()"
   ]
  },
  {
   "cell_type": "code",
   "execution_count": null,
   "metadata": {},
   "outputs": [],
   "source": [
    "t = np.arange(0., 5., 0.2)\n",
    "plt.figure()\n",
    "plt.subplot(3,1,1)  # 3 row 1 Columns and Put Figure at 1st index\n",
    "plt.plot(t, t, 'r--')\n",
    "plt.xlabel(\"T Values\")\n",
    "plt.ylabel(\"Output Values\")\n",
    "plt.title(\"Linear Subplot\")\n",
    "\n",
    "\n",
    "plt.subplot(3,1,2)  # 3 row 1 Columns and Put Figure at 2nd index\n",
    "plt.plot(t, t**2, 'bs')\n",
    "plt.xlabel(\"T Values\")\n",
    "plt.ylabel(\"Output Values\")\n",
    "plt.title(\"Quadratic Subplot\")\n",
    "\n",
    "\n",
    "plt.subplot(3,1,3)  # 3 row 1 Columns and Put Figure in 3rd index\n",
    "plt.plot(t, t**3, 'g^')\n",
    "plt.xlabel(\"T Values\")\n",
    "plt.ylabel(\"Output Values\")\n",
    "plt.title(\"Cubic Subplot\")\n",
    "plt.tight_layout() # Fixes Space between layout\n",
    "plt.savefig(\"Vertical.png\")\n",
    "plt.show()"
   ]
  },
  {
   "cell_type": "markdown",
   "metadata": {},
   "source": [
    "## Axes, Genertion of Subplots"
   ]
  },
  {
   "cell_type": "code",
   "execution_count": null,
   "metadata": {},
   "outputs": [],
   "source": [
    "# axes - x axis, y axis, labels, tickers\n",
    "\n",
    "x = np.linspace(0, 10, 100) # x contains 100 evenly distributed value between 1 and 10\n",
    "# print(x)\n",
    "fig,axes = plt.subplots(2,3)\n",
    "axes[0,0].plot(x, np.sin(x))\n",
    "axes[0,0].set_title(\"Sin Function\")\n",
    "axes[0,0].set_xlabel(\"X\")\n",
    "axes[0,0].set_ylabel(\"Y\")\n",
    "plt.tight_layout()\n",
    "\n",
    "\n",
    "axes[0,1].plot(x, np.cos(x))\n",
    "axes[0,1].set_title(\"Cos Function\")\n",
    "axes[0,1].set_xlabel(\"X\")\n",
    "axes[0,1].set_ylabel(\"Y\")\n",
    "\n",
    "axes[0,2].plot(x, np.tan(x))\n",
    "axes[0,2].set_title(\"Tan Function\")\n",
    "axes[0,2].set_xlabel(\"X\")\n",
    "axes[0,2].set_ylabel(\"Y\")\n",
    "\n",
    "\n",
    "axes[1,0].plot(x, np.exp(x))\n",
    "axes[1,0].set_title(\"Exponential Function\")\n",
    "axes[1,0].set_xlabel(\"X\")\n",
    "axes[1,0].set_ylabel(\"Y\")\n",
    "\n",
    "\n",
    "axes[1,1].plot(x, np.sqrt(x))\n",
    "axes[1,1].set_title(\"Square Root Function\")\n",
    "axes[1,1].set_xlabel(\"X\")\n",
    "axes[1,1].set_ylabel(\"Y\")\n",
    "\n",
    "\n",
    "axes[1,2].plot(x, np.log(x))\n",
    "axes[1,2].set_title(\"Log x Function\")\n",
    "axes[1,2].set_xlabel(\"X\")\n",
    "axes[1,2].set_ylabel(\"Y\")\n",
    "plt.tight_layout()"
   ]
  },
  {
   "cell_type": "markdown",
   "metadata": {},
   "source": [
    "## Scatter Plots"
   ]
  },
  {
   "cell_type": "code",
   "execution_count": null,
   "metadata": {},
   "outputs": [],
   "source": [
    "x = np.random.rand(50)*10  # Random 50 numbers between 0 and 10\n",
    "y = np.random.rand(50)*10 \n",
    "\n",
    "plt.scatter(x,y,marker='D',edgecolors=\"black\",linewidths=2,s =5,label=\"This is dat\")\n",
    "plt.grid(True)\n",
    "plt.legend()\n",
    "plt.show()"
   ]
  },
  {
   "cell_type": "markdown",
   "metadata": {},
   "source": [
    "## Bar Plots"
   ]
  },
  {
   "cell_type": "code",
   "execution_count": null,
   "metadata": {},
   "outputs": [],
   "source": [
    "courses = [\"GenAI\",\"CPP\",\"JS\",\"REACT\",\"Web D\"]\n",
    "students = [2400,5000,1234,2343,5545]\n",
    "\n",
    "plt.bar(courses,students,width=0.5,align=\"center\",edgecolor=\"black\",linewidth=2,color=\"pink\",hatch=\"-\")\n",
    "plt.show()"
   ]
  },
  {
   "cell_type": "code",
   "execution_count": null,
   "metadata": {},
   "outputs": [],
   "source": [
    "courses = [\"GenAI\",\"CPP\",\"JS\",\"REACT\",\"Web D\"]\n",
    "students = [2400,5000,1234,2343,5545]\n",
    "hatches = [\"/\",\"*\",\"o\",\"\\\\\",\"|\"]\n",
    "\n",
    "bars = plt.bar(courses,students,width=0.5,align=\"center\",edgecolor=\"black\",linewidth=2,color=\"pink\")\n",
    "\n",
    "for bar,hatch in zip(bars,hatches):\n",
    "    bar.set_hatch(hatch)\n",
    "# Similarly we can set colors of each bar\n",
    "plt.xlabel(\"Courses\")\n",
    "plt.ylabel(\"Students enrolled\")\n",
    "plt.title(\"Students enrolled in Courses\")\n",
    "plt.show()"
   ]
  },
  {
   "cell_type": "markdown",
   "metadata": {},
   "source": [
    "## Histogram Plots"
   ]
  },
  {
   "cell_type": "code",
   "execution_count": null,
   "metadata": {},
   "outputs": [],
   "source": [
    "ages = [34,23,78,45,55,67,12,75,27,93,95,35,87]\n",
    "sorted_ages = np.sort(ages)\n",
    "print(sorted_ages)\n",
    "# By default it is Frequency Histogram (we have two more types density and cumulative we can se them by setting them True)\n",
    "# plt.hist(ages)\n",
    "plt.hist(ages,bins=5,orientation='horizontal')\n",
    "# plt.hist(ages,density=True)\n",
    "# plt.hist(ages,cumulative=True)\n",
    "# Same styling Label colors titles are same\n",
    "plt.show()"
   ]
  },
  {
   "cell_type": "markdown",
   "metadata": {},
   "source": [
    "## Pie Charts"
   ]
  },
  {
   "cell_type": "code",
   "execution_count": null,
   "metadata": {},
   "outputs": [],
   "source": [
    "courses = [\"GenAI\",\"CPP\",\"JS\",\"REACT\",\"Web D\"]\n",
    "students = [2400,5000,1234,2343,5545]\n",
    "\n",
    "explode = [0,0.2,0,0,0]\n",
    "pie_colors = [\"red\",\"blue\",\"green\",\"pink\",\"orange\"]\n",
    "plt.pie(students,labels=courses ,shadow=True,explode=explode,colors=pie_colors,autopct=\"%.1f%%\")\n",
    "\n",
    "plt.show()"
   ]
  },
  {
   "cell_type": "markdown",
   "metadata": {},
   "source": [
    "## 3D Sactter Plots"
   ]
  },
  {
   "cell_type": "code",
   "execution_count": null,
   "metadata": {},
   "outputs": [],
   "source": [
    "ax = plt.axes(projection=\"3d\")\n",
    "x= np.random.rand(100)\n",
    "y= np.random.rand(100)\n",
    "z= np.random.rand(100)\n",
    "\n",
    "ax.scatter(x,y,z)\n",
    "ax.set_xlabel(\"X Val\")\n",
    "ax.set_ylabel(\"Y Val\")\n",
    "ax.set_zlabel(\"Z Val\")\n",
    "\n",
    "ax.set_title(\"3D Scatter Plot\")\n",
    "plt.show()\n"
   ]
  },
  {
   "cell_type": "markdown",
   "metadata": {},
   "source": [
    "## 3D Curve Plots"
   ]
  },
  {
   "cell_type": "code",
   "execution_count": null,
   "metadata": {},
   "outputs": [],
   "source": [
    "ax = plt.axes(projection=\"3d\")\n",
    "x= np.arange(0,50,0.1)\n",
    "y= np.sin(x)\n",
    "z= np.cos(x)\n",
    "\n",
    "ax.plot(x,y,z)\n",
    "plt.show()"
   ]
  },
  {
   "cell_type": "markdown",
   "metadata": {},
   "source": [
    "## 3D Bar Plots"
   ]
  },
  {
   "cell_type": "code",
   "execution_count": null,
   "metadata": {},
   "outputs": [],
   "source": [
    "# Create a 3D axes object for plotting\n",
    "ax = plt.axes(projection=\"3d\")\n",
    "\n",
    "# Generate 5 random integers between 1 and 10 for the X positions of the bars\n",
    "x = np.random.randint(1, 10, 5)\n",
    "\n",
    "# Generate 5 random integers between 1 and 10 for the Y positions of the bars\n",
    "y = np.random.randint(1, 10, 5)\n",
    "\n",
    "# Set the base (starting Z position) of each bar to 0 (ground level)\n",
    "z = np.zeros(5)\n",
    "\n",
    "# Set the width (dx) of each bar in the X direction to 1\n",
    "dx = np.ones(5)\n",
    "\n",
    "# Set the depth (dy) of each bar in the Y direction to 1\n",
    "dy = np.ones(5)\n",
    "\n",
    "# Generate 5 random integers between 1 and 10 for the height (dz) of each bar\n",
    "dz = np.random.randint(1, 10, 5)\n",
    "\n",
    "# Plot the 3D bars with given positions and dimensions\n",
    "ax.bar3d(x, y, z, dx, dy, dz)\n",
    "\n",
    "ax.set_xlabel(\"X Val\")\n",
    "ax.set_ylabel(\"Y Val\")\n",
    "ax.set_zlabel(\"Z Val\")\n",
    "plt.tight_layout()\n",
    "# plt.savefig(\"3dplot.png\") # z is shown in image sometimes give issue \n",
    "\n",
    "# Display the plot\n",
    "plt.show()"
   ]
  },
  {
   "cell_type": "markdown",
   "metadata": {},
   "source": [
    "## 3D Plot Surface"
   ]
  },
  {
   "cell_type": "code",
   "execution_count": null,
   "metadata": {},
   "outputs": [],
   "source": [
    "# Set up a 3D plot\n",
    "ax = plt.axes(projection=\"3d\")\n",
    "\n",
    "# Create values from -5 to 5 with a step of 0.25 for X and Y\n",
    "X = np.arange(-5, 5, 0.25)\n",
    "Y = np.arange(-5, 5, 0.25)\n",
    "\n",
    "# Create a grid of X and Y values (like a graph paper)\n",
    "X, Y = np.meshgrid(X, Y)\n",
    "\n",
    "# Calculate distance of each point from the center (0, 0)\n",
    "R = np.sqrt(X**2 + Y**2)\n",
    "\n",
    "# Take sine of the distance to create wave-like height values\n",
    "Z = np.sin(R)\n",
    "\n",
    "# Draw the 3D surface using X, Y, Z values\n",
    "ax.plot_surface(X, Y, Z)\n",
    "\n",
    "# You can try different color styles using 'cmap'\n",
    "# ax.plot_surface(X, Y, Z, cmap=\"inferno\")\n",
    "# ax.plot_surface(X, Y, Z, cmap=\"plasma\")\n",
    "# ax.plot_surface(X, Y, Z, cmap=\"magma\")\n",
    "\n",
    "# Show the final plot\n",
    "plt.show()\n"
   ]
  }
 ],
 "metadata": {
  "kernelspec": {
   "display_name": "venv",
   "language": "python",
   "name": "python3"
  },
  "language_info": {
   "codemirror_mode": {
    "name": "ipython",
    "version": 3
   },
   "file_extension": ".py",
   "mimetype": "text/x-python",
   "name": "python",
   "nbconvert_exporter": "python",
   "pygments_lexer": "ipython3",
   "version": "3.13.3"
  }
 },
 "nbformat": 4,
 "nbformat_minor": 2
}
