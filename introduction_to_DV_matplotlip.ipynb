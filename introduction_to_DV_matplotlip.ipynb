{
 "cells": [
  {
   "cell_type": "markdown",
   "metadata": {},
   "source": [
    "## Introduciton"
   ]
  },
  {
   "cell_type": "code",
   "execution_count": 53,
   "metadata": {},
   "outputs": [],
   "source": [
    "import matplotlib.pyplot as plt"
   ]
  },
  {
   "cell_type": "code",
   "execution_count": null,
   "metadata": {},
   "outputs": [],
   "source": [
    "plt.plot([1,2,3,4])\n",
    "plt.show()"
   ]
  },
  {
   "cell_type": "code",
   "execution_count": null,
   "metadata": {},
   "outputs": [],
   "source": [
    "x = [1,2,3,4]\n",
    "js_marks = [50,60,80,92]\n",
    "ml_marks = [55,66,70,87]\n",
    "plt.plot(x,js_marks,label = \"JS Marks\",color='green',linewidth=4,linestyle=\":\") # for Label to show we need to do plt.legend\n",
    "plt.plot(x,ml_marks,label = \"ML Marks\" ,color=\"#000\",marker=\"*\",linestyle=\"--\") # for Label to show we need to do plt.legend\n",
    "plt.title(\"Marks for number of Hours\")\n",
    "plt.xlabel(\"Hours Studied\")\n",
    "plt.ylabel(\"Marks Gained\")\n",
    "plt.xticks([1,2,3,4])\n",
    "plt.yticks([33,66,99])\n",
    "plt.legend(loc=\"lower right\")\n",
    "plt.show()"
   ]
  },
  {
   "cell_type": "code",
   "execution_count": null,
   "metadata": {},
   "outputs": [],
   "source": [
    "x = [1,2,3,4]\n",
    "js_marks = [50,60,80,92]\n",
    "ml_marks = [55,66,70,87]\n",
    "plt.plot(x,js_marks,'r*--',label = \"JS Marks\",linewidth=4) # Shorthand Notation r*--\n",
    "plt.plot(x,ml_marks,label = \"ML Marks\" ,color=\"#000\",marker=\"*\",linestyle=\"--\",markersize=20)\n",
    "plt.title(\"Marks for number of Hours\",fontdict={'fontname':\"Comic Sans MS\",\"fontweight\":5,\"fontsize\":20,\"color\":\"blue\"})\n",
    "plt.xlabel(\"Hours Studied\")\n",
    "plt.ylabel(\"Marks Gained\")\n",
    "plt.xticks([1,2,3,4])\n",
    "plt.yticks([33,66,99])\n",
    "plt.legend(loc=\"lower right\")\n",
    "\n",
    "plt.savefig(\"marks.png\") # Saves the image for the Graph\n",
    "plt.savefig(\"marks1.png\",dpi=10) # DPI is Dots per Inches\n",
    "plt.savefig(\"marks2.png\",dpi=1000) # DPI is Dots per Inches\n",
    "# You can see the differnece in images of DPI is high quality image that didnt get blur on zoom too\n",
    "\n",
    "# Make sure to savefig before show because what happens is when show renders the image it clears the figure that we are working with \n",
    "plt.show()"
   ]
  },
  {
   "cell_type": "code",
   "execution_count": 57,
   "metadata": {},
   "outputs": [],
   "source": [
    "import numpy as np\n",
    "\n",
    "# evenly sampled time at 200ms intervals\n",
    "t = np.arange(0., 5., 0.2)\n",
    "print(t)\n",
    "# red dashes, blue squares and green triangles short hand notations\n",
    "plt.plot(t, t, 'r--', t, t**2, 'bs', t, t**3, 'g^')\n",
    "plt.show()"
   ]
  },
  {
   "cell_type": "markdown",
   "metadata": {},
   "source": [
    "## Sub Plots (Title Labels Styling)"
   ]
  },
  {
   "cell_type": "code",
   "execution_count": 58,
   "metadata": {},
   "outputs": [],
   "source": [
    "t = np.arange(0., 5., 0.2)\n",
    "# Separate Images\n",
    "plt.figure()\n",
    "plt.plot(t, t, 'r--')\n",
    "plt.savefig(\"multiple1.png\")\n",
    "\n",
    "plt.figure()\n",
    "plt.plot(t, t**2, 'bs')\n",
    "plt.savefig(\"multiple2.png\")\n",
    "\n",
    "plt.figure()\n",
    "plt.plot(t, t**3, 'g^')\n",
    "plt.savefig(\"multiple3.png\")\n",
    "plt.show()"
   ]
  },
  {
   "cell_type": "code",
   "execution_count": null,
   "metadata": {},
   "outputs": [],
   "source": [
    "t = np.arange(0., 5., 0.2)\n",
    "plt.figure()\n",
    "plt.subplot(1,3,1)  # 1 row 3 Columns and Put Figure at 1st index\n",
    "plt.plot(t, t, 'r--')\n",
    "plt.title(\"Linear Subplot\")\n",
    "plt.subplot(1,3,2)  # 1 row 3 Columns and Put Figure at 2nd index\n",
    "plt.plot(t, t**2, 'bs')\n",
    "plt.title(\"Quadratic Subplot\")\n",
    "plt.subplot(1,3,3)  # 1 row 3 Columns and Put Figure in 3rd index\n",
    "plt.plot(t, t**3, 'g^')\n",
    "plt.title(\"Cubic Subplot\")\n",
    "\n",
    "plt.suptitle(\"Different Function\")\n",
    "plt.tight_layout()\n",
    "plt.savefig(\"Horizontal.png\")\n",
    "plt.show()"
   ]
  },
  {
   "cell_type": "code",
   "execution_count": null,
   "metadata": {},
   "outputs": [],
   "source": [
    "t = np.arange(0., 5., 0.2)\n",
    "plt.figure()\n",
    "plt.subplot(3,1,1)  # 3 row 1 Columns and Put Figure at 1st index\n",
    "plt.plot(t, t, 'r--')\n",
    "plt.xlabel(\"T Values\")\n",
    "plt.ylabel(\"Output Values\")\n",
    "plt.title(\"Linear Subplot\")\n",
    "\n",
    "\n",
    "plt.subplot(3,1,2)  # 3 row 1 Columns and Put Figure at 2nd index\n",
    "plt.plot(t, t**2, 'bs')\n",
    "plt.xlabel(\"T Values\")\n",
    "plt.ylabel(\"Output Values\")\n",
    "plt.title(\"Quadratic Subplot\")\n",
    "\n",
    "\n",
    "plt.subplot(3,1,3)  # 3 row 1 Columns and Put Figure in 3rd index\n",
    "plt.plot(t, t**3, 'g^')\n",
    "plt.xlabel(\"T Values\")\n",
    "plt.ylabel(\"Output Values\")\n",
    "plt.title(\"Cubic Subplot\")\n",
    "plt.tight_layout() # Fixes Space between layout\n",
    "plt.savefig(\"Vertical.png\")\n",
    "plt.show()"
   ]
  }
 ],
 "metadata": {
  "kernelspec": {
   "display_name": "venv",
   "language": "python",
   "name": "python3"
  },
  "language_info": {
   "codemirror_mode": {
    "name": "ipython",
    "version": 3
   },
   "file_extension": ".py",
   "mimetype": "text/x-python",
   "name": "python",
   "nbconvert_exporter": "python",
   "pygments_lexer": "ipython3",
   "version": "3.13.3"
  }
 },
 "nbformat": 4,
 "nbformat_minor": 2
}
