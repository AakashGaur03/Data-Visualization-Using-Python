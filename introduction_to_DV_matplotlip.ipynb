{
 "cells": [
  {
   "cell_type": "markdown",
   "metadata": {},
   "source": [
    "## Introduciton"
   ]
  },
  {
   "cell_type": "code",
   "execution_count": 2,
   "metadata": {},
   "outputs": [],
   "source": [
    "import matplotlib.pyplot as plt"
   ]
  },
  {
   "cell_type": "code",
   "execution_count": 38,
   "metadata": {},
   "outputs": [],
   "source": [
    "plt.plot([1,2,3,4])\n",
    "plt.show()"
   ]
  },
  {
   "cell_type": "code",
   "execution_count": null,
   "metadata": {},
   "outputs": [],
   "source": [
    "x = [1,2,3,4]\n",
    "js_marks = [50,60,80,92]\n",
    "ml_marks = [55,66,70,87]\n",
    "plt.plot(x,js_marks,label = \"JS Marks\",color='green',linewidth=4,linestyle=\":\") # for Label to show we need to do plt.legend\n",
    "plt.plot(x,ml_marks,label = \"ML Marks\" ,color=\"#000\",marker=\"*\",linestyle=\"--\") # for Label to show we need to do plt.legend\n",
    "plt.title(\"Marks for number of Hours\")\n",
    "plt.xlabel(\"Hours Studied\")\n",
    "plt.ylabel(\"Marks Gained\")\n",
    "plt.xticks([1,2,3,4])\n",
    "plt.yticks([33,66,99])\n",
    "plt.legend(loc=\"lower right\")\n",
    "plt.show()"
   ]
  },
  {
   "cell_type": "code",
   "execution_count": null,
   "metadata": {},
   "outputs": [],
   "source": []
  }
 ],
 "metadata": {
  "kernelspec": {
   "display_name": "venv",
   "language": "python",
   "name": "python3"
  },
  "language_info": {
   "codemirror_mode": {
    "name": "ipython",
    "version": 3
   },
   "file_extension": ".py",
   "mimetype": "text/x-python",
   "name": "python",
   "nbconvert_exporter": "python",
   "pygments_lexer": "ipython3",
   "version": "3.13.3"
  }
 },
 "nbformat": 4,
 "nbformat_minor": 2
}
